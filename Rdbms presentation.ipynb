{
 "cells": [
  {
   "cell_type": "markdown",
   "metadata": {},
   "source": [
    "# Basketball Players Performance Analytic as Experiential Learning Approach in Teaching Undergraduate Data Science Course"
   ]
  },
  {
   "cell_type": "code",
   "execution_count": 60,
   "metadata": {},
   "outputs": [],
   "source": [
    "import pandas as pd\n",
    "import numpy as np\n",
    "import matplotlib.pyplot as plt"
   ]
  },
  {
   "cell_type": "markdown",
   "metadata": {},
   "source": [
    "## Load and clean data"
   ]
  },
  {
   "cell_type": "code",
   "execution_count": 61,
   "metadata": {},
   "outputs": [
    {
     "data": {
      "text/html": [
       "<div>\n",
       "<style scoped>\n",
       "    .dataframe tbody tr th:only-of-type {\n",
       "        vertical-align: middle;\n",
       "    }\n",
       "\n",
       "    .dataframe tbody tr th {\n",
       "        vertical-align: top;\n",
       "    }\n",
       "\n",
       "    .dataframe thead th {\n",
       "        text-align: right;\n",
       "    }\n",
       "</style>\n",
       "<table border=\"1\" class=\"dataframe\">\n",
       "  <thead>\n",
       "    <tr style=\"text-align: right;\">\n",
       "      <th></th>\n",
       "      <th>PLAYER</th>\n",
       "      <th>TEAM</th>\n",
       "      <th>AGE</th>\n",
       "      <th>GP</th>\n",
       "      <th>W</th>\n",
       "      <th>L</th>\n",
       "      <th>MIN</th>\n",
       "      <th>PTS</th>\n",
       "      <th>FGM</th>\n",
       "      <th>FGA</th>\n",
       "      <th>...</th>\n",
       "      <th>REB</th>\n",
       "      <th>AST</th>\n",
       "      <th>TOV</th>\n",
       "      <th>STL</th>\n",
       "      <th>BLK</th>\n",
       "      <th>PF</th>\n",
       "      <th>FP</th>\n",
       "      <th>DD2</th>\n",
       "      <th>TD3</th>\n",
       "      <th>Plusminus</th>\n",
       "    </tr>\n",
       "  </thead>\n",
       "  <tbody>\n",
       "    <tr>\n",
       "      <th>0</th>\n",
       "      <td>Vince Carter</td>\n",
       "      <td>ATL</td>\n",
       "      <td>42</td>\n",
       "      <td>76</td>\n",
       "      <td>25</td>\n",
       "      <td>51</td>\n",
       "      <td>1330</td>\n",
       "      <td>16.9</td>\n",
       "      <td>5.9</td>\n",
       "      <td>14.1</td>\n",
       "      <td>...</td>\n",
       "      <td>5.8</td>\n",
       "      <td>2.6</td>\n",
       "      <td>1.4</td>\n",
       "      <td>1.3</td>\n",
       "      <td>0.8</td>\n",
       "      <td>4.2</td>\n",
       "      <td>32.8</td>\n",
       "      <td>0</td>\n",
       "      <td>0</td>\n",
       "      <td>-5.4</td>\n",
       "    </tr>\n",
       "    <tr>\n",
       "      <th>1</th>\n",
       "      <td>Trae Young</td>\n",
       "      <td>ATL</td>\n",
       "      <td>20</td>\n",
       "      <td>81</td>\n",
       "      <td>29</td>\n",
       "      <td>52</td>\n",
       "      <td>2503</td>\n",
       "      <td>24.8</td>\n",
       "      <td>8.4</td>\n",
       "      <td>20.1</td>\n",
       "      <td>...</td>\n",
       "      <td>4.8</td>\n",
       "      <td>10.4</td>\n",
       "      <td>4.9</td>\n",
       "      <td>1.2</td>\n",
       "      <td>0.2</td>\n",
       "      <td>2.2</td>\n",
       "      <td>45.4</td>\n",
       "      <td>30</td>\n",
       "      <td>1</td>\n",
       "      <td>-5.4</td>\n",
       "    </tr>\n",
       "    <tr>\n",
       "      <th>2</th>\n",
       "      <td>Taurean Prince</td>\n",
       "      <td>ATL</td>\n",
       "      <td>25</td>\n",
       "      <td>55</td>\n",
       "      <td>19</td>\n",
       "      <td>36</td>\n",
       "      <td>1552</td>\n",
       "      <td>19.1</td>\n",
       "      <td>6.8</td>\n",
       "      <td>15.3</td>\n",
       "      <td>...</td>\n",
       "      <td>5.1</td>\n",
       "      <td>3.0</td>\n",
       "      <td>2.6</td>\n",
       "      <td>1.4</td>\n",
       "      <td>0.5</td>\n",
       "      <td>3.6</td>\n",
       "      <td>32.8</td>\n",
       "      <td>0</td>\n",
       "      <td>0</td>\n",
       "      <td>-6.3</td>\n",
       "    </tr>\n",
       "    <tr>\n",
       "      <th>3</th>\n",
       "      <td>Omari Spellman</td>\n",
       "      <td>ATL</td>\n",
       "      <td>21</td>\n",
       "      <td>46</td>\n",
       "      <td>15</td>\n",
       "      <td>31</td>\n",
       "      <td>805</td>\n",
       "      <td>13.5</td>\n",
       "      <td>4.9</td>\n",
       "      <td>12.1</td>\n",
       "      <td>...</td>\n",
       "      <td>9.6</td>\n",
       "      <td>2.3</td>\n",
       "      <td>1.5</td>\n",
       "      <td>1.3</td>\n",
       "      <td>1.2</td>\n",
       "      <td>3.3</td>\n",
       "      <td>34.7</td>\n",
       "      <td>4</td>\n",
       "      <td>0</td>\n",
       "      <td>-10.0</td>\n",
       "    </tr>\n",
       "    <tr>\n",
       "      <th>4</th>\n",
       "      <td>Miles Plumlee</td>\n",
       "      <td>ATL</td>\n",
       "      <td>30</td>\n",
       "      <td>18</td>\n",
       "      <td>1</td>\n",
       "      <td>17</td>\n",
       "      <td>173</td>\n",
       "      <td>18.5</td>\n",
       "      <td>7.4</td>\n",
       "      <td>11.1</td>\n",
       "      <td>...</td>\n",
       "      <td>9.0</td>\n",
       "      <td>3.9</td>\n",
       "      <td>2.3</td>\n",
       "      <td>1.4</td>\n",
       "      <td>0.9</td>\n",
       "      <td>3.2</td>\n",
       "      <td>39.9</td>\n",
       "      <td>0</td>\n",
       "      <td>0</td>\n",
       "      <td>-9.9</td>\n",
       "    </tr>\n",
       "  </tbody>\n",
       "</table>\n",
       "<p>5 rows × 29 columns</p>\n",
       "</div>"
      ],
      "text/plain": [
       "           PLAYER TEAM  AGE  GP   W   L   MIN   PTS  FGM   FGA  ...  REB  \\\n",
       "0    Vince Carter  ATL   42  76  25  51  1330  16.9  5.9  14.1  ...  5.8   \n",
       "1      Trae Young  ATL   20  81  29  52  2503  24.8  8.4  20.1  ...  4.8   \n",
       "2  Taurean Prince  ATL   25  55  19  36  1552  19.1  6.8  15.3  ...  5.1   \n",
       "3  Omari Spellman  ATL   21  46  15  31   805  13.5  4.9  12.1  ...  9.6   \n",
       "4   Miles Plumlee  ATL   30  18   1  17   173  18.5  7.4  11.1  ...  9.0   \n",
       "\n",
       "    AST  TOV  STL  BLK   PF    FP  DD2  TD3  Plusminus  \n",
       "0   2.6  1.4  1.3  0.8  4.2  32.8    0    0       -5.4  \n",
       "1  10.4  4.9  1.2  0.2  2.2  45.4   30    1       -5.4  \n",
       "2   3.0  2.6  1.4  0.5  3.6  32.8    0    0       -6.3  \n",
       "3   2.3  1.5  1.3  1.2  3.3  34.7    4    0      -10.0  \n",
       "4   3.9  2.3  1.4  0.9  3.2  39.9    0    0       -9.9  \n",
       "\n",
       "[5 rows x 29 columns]"
      ]
     },
     "execution_count": 61,
     "metadata": {},
     "output_type": "execute_result"
    }
   ],
   "source": [
    "df = pd.read_csv('2018-19 NBA Players Stats.csv')\n",
    "df.head()"
   ]
  },
  {
   "cell_type": "code",
   "execution_count": 62,
   "metadata": {},
   "outputs": [
    {
     "data": {
      "text/plain": [
       "(530, 29)"
      ]
     },
     "execution_count": 62,
     "metadata": {},
     "output_type": "execute_result"
    }
   ],
   "source": [
    "df.shape"
   ]
  },
  {
   "cell_type": "code",
   "execution_count": 63,
   "metadata": {},
   "outputs": [
    {
     "data": {
      "text/plain": [
       "Index(['PLAYER', 'TEAM', 'AGE', 'GP', 'W', 'L', 'MIN', 'PTS', 'FGM', 'FGA',\n",
       "       'FG%', '3PM', '3PA', '3P%', 'FTM', 'FTA', 'FT%', 'OREB', 'DREB', 'REB',\n",
       "       'AST', 'TOV', 'STL', 'BLK', 'PF', 'FP', 'DD2', 'TD3', 'Plusminus'],\n",
       "      dtype='object')"
      ]
     },
     "execution_count": 63,
     "metadata": {},
     "output_type": "execute_result"
    }
   ],
   "source": [
    "df.columns"
   ]
  },
  {
   "cell_type": "code",
   "execution_count": 64,
   "metadata": {},
   "outputs": [
    {
     "data": {
      "text/plain": [
       "Index(['PLAYER', 'PTS', 'FGM', 'FGA', 'FG%', '3PM', '3PA', '3P%', 'FTM', 'FTA',\n",
       "       'FT%', 'OREB', 'DREB', 'REB', 'AST', 'TOV', 'STL', 'BLK', 'PF', 'FP',\n",
       "       'DD2', 'TD3'],\n",
       "      dtype='object')"
      ]
     },
     "execution_count": 64,
     "metadata": {},
     "output_type": "execute_result"
    }
   ],
   "source": [
    "drop = ['Plusminus','TEAM','AGE','GP','W','L','MIN']\n",
    "df = df.drop(columns=drop)\n",
    "df.columns"
   ]
  },
  {
   "cell_type": "code",
   "execution_count": 65,
   "metadata": {},
   "outputs": [
    {
     "data": {
      "text/html": [
       "<div>\n",
       "<style scoped>\n",
       "    .dataframe tbody tr th:only-of-type {\n",
       "        vertical-align: middle;\n",
       "    }\n",
       "\n",
       "    .dataframe tbody tr th {\n",
       "        vertical-align: top;\n",
       "    }\n",
       "\n",
       "    .dataframe thead th {\n",
       "        text-align: right;\n",
       "    }\n",
       "</style>\n",
       "<table border=\"1\" class=\"dataframe\">\n",
       "  <thead>\n",
       "    <tr style=\"text-align: right;\">\n",
       "      <th></th>\n",
       "      <th>PTS</th>\n",
       "      <th>FGM</th>\n",
       "      <th>FGA</th>\n",
       "      <th>FG%</th>\n",
       "      <th>3PM</th>\n",
       "      <th>3PA</th>\n",
       "      <th>3P%</th>\n",
       "      <th>FTM</th>\n",
       "      <th>FTA</th>\n",
       "      <th>FT%</th>\n",
       "      <th>...</th>\n",
       "      <th>DREB</th>\n",
       "      <th>REB</th>\n",
       "      <th>AST</th>\n",
       "      <th>TOV</th>\n",
       "      <th>STL</th>\n",
       "      <th>BLK</th>\n",
       "      <th>PF</th>\n",
       "      <th>FP</th>\n",
       "      <th>DD2</th>\n",
       "      <th>TD3</th>\n",
       "    </tr>\n",
       "  </thead>\n",
       "  <tbody>\n",
       "    <tr>\n",
       "      <th>count</th>\n",
       "      <td>530.000000</td>\n",
       "      <td>530.000000</td>\n",
       "      <td>530.000000</td>\n",
       "      <td>530.000000</td>\n",
       "      <td>530.000000</td>\n",
       "      <td>530.000000</td>\n",
       "      <td>530.000000</td>\n",
       "      <td>530.000000</td>\n",
       "      <td>530.000000</td>\n",
       "      <td>530.000000</td>\n",
       "      <td>...</td>\n",
       "      <td>530.000000</td>\n",
       "      <td>530.000000</td>\n",
       "      <td>530.000000</td>\n",
       "      <td>530.000000</td>\n",
       "      <td>530.000000</td>\n",
       "      <td>530.000000</td>\n",
       "      <td>530.000000</td>\n",
       "      <td>530.000000</td>\n",
       "      <td>530.000000</td>\n",
       "      <td>530.000000</td>\n",
       "    </tr>\n",
       "    <tr>\n",
       "      <th>mean</th>\n",
       "      <td>16.530943</td>\n",
       "      <td>6.184151</td>\n",
       "      <td>13.981698</td>\n",
       "      <td>43.991132</td>\n",
       "      <td>1.666604</td>\n",
       "      <td>5.050755</td>\n",
       "      <td>29.028113</td>\n",
       "      <td>2.496981</td>\n",
       "      <td>3.402642</td>\n",
       "      <td>69.677547</td>\n",
       "      <td>...</td>\n",
       "      <td>5.682642</td>\n",
       "      <td>7.546038</td>\n",
       "      <td>3.650189</td>\n",
       "      <td>2.103585</td>\n",
       "      <td>1.264717</td>\n",
       "      <td>0.801887</td>\n",
       "      <td>3.731887</td>\n",
       "      <td>35.151321</td>\n",
       "      <td>4.449057</td>\n",
       "      <td>0.239623</td>\n",
       "    </tr>\n",
       "    <tr>\n",
       "      <th>std</th>\n",
       "      <td>6.540621</td>\n",
       "      <td>2.716688</td>\n",
       "      <td>4.473457</td>\n",
       "      <td>11.181947</td>\n",
       "      <td>1.249498</td>\n",
       "      <td>3.271208</td>\n",
       "      <td>14.937859</td>\n",
       "      <td>1.708920</td>\n",
       "      <td>2.183586</td>\n",
       "      <td>21.488026</td>\n",
       "      <td>...</td>\n",
       "      <td>2.970472</td>\n",
       "      <td>4.282517</td>\n",
       "      <td>2.370624</td>\n",
       "      <td>1.160392</td>\n",
       "      <td>0.866702</td>\n",
       "      <td>0.830831</td>\n",
       "      <td>1.677377</td>\n",
       "      <td>10.167533</td>\n",
       "      <td>10.032191</td>\n",
       "      <td>1.772809</td>\n",
       "    </tr>\n",
       "    <tr>\n",
       "      <th>min</th>\n",
       "      <td>0.000000</td>\n",
       "      <td>0.000000</td>\n",
       "      <td>0.000000</td>\n",
       "      <td>0.000000</td>\n",
       "      <td>0.000000</td>\n",
       "      <td>0.000000</td>\n",
       "      <td>0.000000</td>\n",
       "      <td>0.000000</td>\n",
       "      <td>0.000000</td>\n",
       "      <td>0.000000</td>\n",
       "      <td>...</td>\n",
       "      <td>0.000000</td>\n",
       "      <td>0.000000</td>\n",
       "      <td>0.000000</td>\n",
       "      <td>0.000000</td>\n",
       "      <td>0.000000</td>\n",
       "      <td>0.000000</td>\n",
       "      <td>0.000000</td>\n",
       "      <td>0.000000</td>\n",
       "      <td>0.000000</td>\n",
       "      <td>0.000000</td>\n",
       "    </tr>\n",
       "    <tr>\n",
       "      <th>25%</th>\n",
       "      <td>12.925000</td>\n",
       "      <td>4.800000</td>\n",
       "      <td>11.200000</td>\n",
       "      <td>40.200000</td>\n",
       "      <td>0.700000</td>\n",
       "      <td>3.000000</td>\n",
       "      <td>25.650000</td>\n",
       "      <td>1.300000</td>\n",
       "      <td>2.000000</td>\n",
       "      <td>65.150000</td>\n",
       "      <td>...</td>\n",
       "      <td>3.800000</td>\n",
       "      <td>4.725000</td>\n",
       "      <td>2.000000</td>\n",
       "      <td>1.400000</td>\n",
       "      <td>0.900000</td>\n",
       "      <td>0.300000</td>\n",
       "      <td>2.800000</td>\n",
       "      <td>28.750000</td>\n",
       "      <td>0.000000</td>\n",
       "      <td>0.000000</td>\n",
       "    </tr>\n",
       "    <tr>\n",
       "      <th>50%</th>\n",
       "      <td>15.850000</td>\n",
       "      <td>5.900000</td>\n",
       "      <td>13.400000</td>\n",
       "      <td>43.850000</td>\n",
       "      <td>1.700000</td>\n",
       "      <td>5.200000</td>\n",
       "      <td>33.150000</td>\n",
       "      <td>2.200000</td>\n",
       "      <td>3.000000</td>\n",
       "      <td>75.000000</td>\n",
       "      <td>...</td>\n",
       "      <td>5.100000</td>\n",
       "      <td>6.600000</td>\n",
       "      <td>3.000000</td>\n",
       "      <td>1.900000</td>\n",
       "      <td>1.200000</td>\n",
       "      <td>0.600000</td>\n",
       "      <td>3.500000</td>\n",
       "      <td>34.000000</td>\n",
       "      <td>0.000000</td>\n",
       "      <td>0.000000</td>\n",
       "    </tr>\n",
       "    <tr>\n",
       "      <th>75%</th>\n",
       "      <td>19.800000</td>\n",
       "      <td>7.500000</td>\n",
       "      <td>16.275000</td>\n",
       "      <td>48.950000</td>\n",
       "      <td>2.400000</td>\n",
       "      <td>7.100000</td>\n",
       "      <td>36.775000</td>\n",
       "      <td>3.375000</td>\n",
       "      <td>4.500000</td>\n",
       "      <td>81.800000</td>\n",
       "      <td>...</td>\n",
       "      <td>7.100000</td>\n",
       "      <td>9.700000</td>\n",
       "      <td>5.000000</td>\n",
       "      <td>2.600000</td>\n",
       "      <td>1.500000</td>\n",
       "      <td>1.000000</td>\n",
       "      <td>4.500000</td>\n",
       "      <td>40.400000</td>\n",
       "      <td>3.000000</td>\n",
       "      <td>0.000000</td>\n",
       "    </tr>\n",
       "    <tr>\n",
       "      <th>max</th>\n",
       "      <td>83.800000</td>\n",
       "      <td>41.900000</td>\n",
       "      <td>43.900000</td>\n",
       "      <td>100.000000</td>\n",
       "      <td>9.400000</td>\n",
       "      <td>32.900000</td>\n",
       "      <td>100.000000</td>\n",
       "      <td>14.300000</td>\n",
       "      <td>15.100000</td>\n",
       "      <td>100.000000</td>\n",
       "      <td>...</td>\n",
       "      <td>31.400000</td>\n",
       "      <td>43.900000</td>\n",
       "      <td>14.300000</td>\n",
       "      <td>10.700000</td>\n",
       "      <td>10.700000</td>\n",
       "      <td>6.500000</td>\n",
       "      <td>18.800000</td>\n",
       "      <td>83.800000</td>\n",
       "      <td>69.000000</td>\n",
       "      <td>34.000000</td>\n",
       "    </tr>\n",
       "  </tbody>\n",
       "</table>\n",
       "<p>8 rows × 21 columns</p>\n",
       "</div>"
      ],
      "text/plain": [
       "              PTS         FGM         FGA         FG%         3PM         3PA  \\\n",
       "count  530.000000  530.000000  530.000000  530.000000  530.000000  530.000000   \n",
       "mean    16.530943    6.184151   13.981698   43.991132    1.666604    5.050755   \n",
       "std      6.540621    2.716688    4.473457   11.181947    1.249498    3.271208   \n",
       "min      0.000000    0.000000    0.000000    0.000000    0.000000    0.000000   \n",
       "25%     12.925000    4.800000   11.200000   40.200000    0.700000    3.000000   \n",
       "50%     15.850000    5.900000   13.400000   43.850000    1.700000    5.200000   \n",
       "75%     19.800000    7.500000   16.275000   48.950000    2.400000    7.100000   \n",
       "max     83.800000   41.900000   43.900000  100.000000    9.400000   32.900000   \n",
       "\n",
       "              3P%         FTM         FTA         FT%  ...        DREB  \\\n",
       "count  530.000000  530.000000  530.000000  530.000000  ...  530.000000   \n",
       "mean    29.028113    2.496981    3.402642   69.677547  ...    5.682642   \n",
       "std     14.937859    1.708920    2.183586   21.488026  ...    2.970472   \n",
       "min      0.000000    0.000000    0.000000    0.000000  ...    0.000000   \n",
       "25%     25.650000    1.300000    2.000000   65.150000  ...    3.800000   \n",
       "50%     33.150000    2.200000    3.000000   75.000000  ...    5.100000   \n",
       "75%     36.775000    3.375000    4.500000   81.800000  ...    7.100000   \n",
       "max    100.000000   14.300000   15.100000  100.000000  ...   31.400000   \n",
       "\n",
       "              REB         AST         TOV         STL         BLK          PF  \\\n",
       "count  530.000000  530.000000  530.000000  530.000000  530.000000  530.000000   \n",
       "mean     7.546038    3.650189    2.103585    1.264717    0.801887    3.731887   \n",
       "std      4.282517    2.370624    1.160392    0.866702    0.830831    1.677377   \n",
       "min      0.000000    0.000000    0.000000    0.000000    0.000000    0.000000   \n",
       "25%      4.725000    2.000000    1.400000    0.900000    0.300000    2.800000   \n",
       "50%      6.600000    3.000000    1.900000    1.200000    0.600000    3.500000   \n",
       "75%      9.700000    5.000000    2.600000    1.500000    1.000000    4.500000   \n",
       "max     43.900000   14.300000   10.700000   10.700000    6.500000   18.800000   \n",
       "\n",
       "               FP         DD2         TD3  \n",
       "count  530.000000  530.000000  530.000000  \n",
       "mean    35.151321    4.449057    0.239623  \n",
       "std     10.167533   10.032191    1.772809  \n",
       "min      0.000000    0.000000    0.000000  \n",
       "25%     28.750000    0.000000    0.000000  \n",
       "50%     34.000000    0.000000    0.000000  \n",
       "75%     40.400000    3.000000    0.000000  \n",
       "max     83.800000   69.000000   34.000000  \n",
       "\n",
       "[8 rows x 21 columns]"
      ]
     },
     "execution_count": 65,
     "metadata": {},
     "output_type": "execute_result"
    }
   ],
   "source": [
    "df.describe()"
   ]
  },
  {
   "cell_type": "markdown",
   "metadata": {},
   "source": [
    "### Top 5 players for BLK "
   ]
  },
  {
   "cell_type": "code",
   "execution_count": 66,
   "metadata": {},
   "outputs": [
    {
     "name": "stderr",
     "output_type": "stream",
     "text": [
      "c:\\users\\prade\\appdata\\local\\programs\\python\\python38-32\\lib\\site-packages\\pandas\\plotting\\_matplotlib\\core.py:1192: UserWarning: FixedFormatter should only be used together with FixedLocator\n",
      "  ax.set_xticklabels(xticklabels)\n"
     ]
    },
    {
     "data": {
      "image/png": "[encoded data removed]",
      "text/plain": [
       "<Figure size 720x360 with 1 Axes>"
      ]
     },
     "metadata": {
      "needs_background": "light"
     },
     "output_type": "display_data"
    }
   ],
   "source": [
    "blk_list = df.sort_values('BLK',ascending=False)\n",
    "blk_list = blk_list[:5]\n",
    "\n",
    "blk_list.plot(x=\"PLAYER\",y=\"BLK\",figsize=(10,5))\n",
    "plt.title(\"Top 5 players for BLK\",loc='center',fontsize=25)\n",
    "plt.show()"
   ]
  },
  {
   "cell_type": "code",
   "execution_count": 67,
   "metadata": {
    "scrolled": false
   },
   "outputs": [
    {
     "data": {
      "image/png": "[encoded data removed]",
      "text/plain": [
       "<Figure size 1080x360 with 1 Axes>"
      ]
     },
     "metadata": {
      "needs_background": "light"
     },
     "output_type": "display_data"
    }
   ],
   "source": [
    "three_p = df.sort_values('3PA',ascending=False)\n",
    "three_p = three_p[:5]\n",
    "pa_3 = np.array([three_p['3PA']])\n",
    "pm_3 = np.array([three_p['3PM']])\n",
    "\n",
    "three_p.plot.bar(x='PLAYER',y={'3PA':pa_3,'3PM':pm_3},figsize=(15,5))\n",
    "\n",
    "plt.title(\"Top 5 players for 3PA\",loc='center',fontsize=25)\n",
    "plt.show()"
   ]
  },
  {
   "cell_type": "markdown",
   "metadata": {},
   "source": [
    "## K Means Clustering "
   ]
  },
  {
   "cell_type": "markdown",
   "metadata": {},
   "source": [
    "### Clustering for Field Goals"
   ]
  },
  {
   "cell_type": "code",
   "execution_count": 68,
   "metadata": {},
   "outputs": [],
   "source": [
    "x = df.iloc[:, [3, 6]].values "
   ]
  },
  {
   "cell_type": "code",
   "execution_count": 69,
   "metadata": {},
   "outputs": [
    {
     "data": {
      "image/png": "[encoded data removed]",
      "text/plain": [
       "<Figure size 432x288 with 1 Axes>"
      ]
     },
     "metadata": {
      "needs_background": "light"
     },
     "output_type": "display_data"
    }
   ],
   "source": [
    "#finding optimal number of clusters using the elbow method  \n",
    "from sklearn.cluster import KMeans  \n",
    "wcss_list= []  #Initializing the list for the values of WCSS  \n",
    "  \n",
    "#Using for loop for iterations from 1 to 10.  \n",
    "for i in range(1, 11):  \n",
    "    kmeans = KMeans(n_clusters=i, init='k-means++', random_state= 42)  \n",
    "    kmeans.fit(x)  \n",
    "    wcss_list.append(kmeans.inertia_)  \n",
    "plt.plot(range(1, 11), wcss_list)  \n",
    "plt.title('The Elbow Method Graph')  \n",
    "plt.xlabel('Number of clusters(k)')  \n",
    "plt.ylabel('wcss_list')   #Within Cluster Sum of Squares\n",
    "plt.show()"
   ]
  },
  {
   "cell_type": "code",
   "execution_count": 70,
   "metadata": {},
   "outputs": [],
   "source": [
    "#training the K-means model on a dataset  \n",
    "kmeans = KMeans(n_clusters=2, init='k-means++', random_state= 42)  \n",
    "y_predict= kmeans.fit_predict(x)"
   ]
  },
  {
   "cell_type": "code",
   "execution_count": 71,
   "metadata": {},
   "outputs": [
    {
     "data": {
      "image/png": "[encoded data removed]",
      "text/plain": [
       "<Figure size 432x288 with 1 Axes>"
      ]
     },
     "metadata": {
      "needs_background": "light"
     },
     "output_type": "display_data"
    }
   ],
   "source": [
    "plt.scatter(x[y_predict == 0, 0], x[y_predict == 0, 1], s = 10, c = 'blue') #for first cluster  \n",
    "plt.scatter(x[y_predict == 1, 0], x[y_predict == 1, 1], s = 10, c = 'green') #for second cluster  \n",
    "plt.scatter(kmeans.cluster_centers_[:, 0], kmeans.cluster_centers_[:, 1], s = 30, c = 'yellow', label = 'Centroid')   \n",
    "plt.title('Clustering Results for 3-point Shooting based on Attempts')  \n",
    "plt.ylabel('FG%')  \n",
    "plt.xlabel('ATT')  \n",
    "plt.legend()  \n",
    "plt.show()"
   ]
  },
  {
   "cell_type": "markdown",
   "metadata": {},
   "source": [
    "### Clustering for 3 Pointers"
   ]
  },
  {
   "cell_type": "code",
   "execution_count": 72,
   "metadata": {},
   "outputs": [],
   "source": [
    "x = df.iloc[:, [3, 4]].values"
   ]
  },
  {
   "cell_type": "code",
   "execution_count": 73,
   "metadata": {},
   "outputs": [
    {
     "data": {
      "image/png": "[encoded data removed]",
      "text/plain": [
       "<Figure size 432x288 with 1 Axes>"
      ]
     },
     "metadata": {
      "needs_background": "light"
     },
     "output_type": "display_data"
    }
   ],
   "source": [
    "#finding optimal number of clusters using the elbow method  \n",
    "from sklearn.cluster import KMeans  \n",
    "wcss_list= []  #Initializing the list for the values of WCSS  \n",
    "  \n",
    "#Using for loop for iterations from 1 to 10.  \n",
    "for i in range(1, 11):  \n",
    "    kmeans = KMeans(n_clusters=i, init='k-means++', random_state= 42)  \n",
    "    kmeans.fit(x)  \n",
    "    wcss_list.append(kmeans.inertia_)  \n",
    "plt.plot(range(1, 11), wcss_list)  \n",
    "plt.title('The Elbow Method Graph')  \n",
    "plt.xlabel('Number of clusters(k)')  \n",
    "plt.ylabel('wcss_list')  #Within Cluster Sum of Squares\n",
    "plt.show()"
   ]
  },
  {
   "cell_type": "code",
   "execution_count": 74,
   "metadata": {},
   "outputs": [],
   "source": [
    "#training the K-means model on a dataset  \n",
    "kmeans = KMeans(n_clusters=3, init='k-means++', random_state= 42)  \n",
    "y_predict= kmeans.fit_predict(x)"
   ]
  },
  {
   "cell_type": "code",
   "execution_count": 75,
   "metadata": {},
   "outputs": [
    {
     "data": {
      "image/png": "[encoded data removed]",
      "text/plain": [
       "<Figure size 432x288 with 1 Axes>"
      ]
     },
     "metadata": {
      "needs_background": "light"
     },
     "output_type": "display_data"
    }
   ],
   "source": [
    "plt.scatter(x[y_predict == 0, 1],x[y_predict == 0, 0], s = 10, c = 'magenta') #for first cluster  \n",
    "plt.scatter(x[y_predict == 1, 1], x[y_predict == 1, 0], s = 10, c = 'cyan') #for second cluster\n",
    "plt.scatter(x[y_predict == 2, 1], x[y_predict == 2, 0], s = 10, c = 'blue') #for third cluster  \n",
    "plt.scatter(kmeans.cluster_centers_[:, 1], kmeans.cluster_centers_[:, 0], s = 30, c = 'yellow', label = 'Centroid')   \n",
    "plt.title('Clustering Results for overall field goals based on Attempts')  \n",
    "plt.ylabel('FG%')  \n",
    "plt.xlabel('FGA')  \n",
    "plt.legend()  \n",
    "plt.show()"
   ]
  }
 ],
 "metadata": {
  "kernelspec": {
   "display_name": "Python 3",
   "language": "python",
   "name": "python3"
  },
  "language_info": {
   "codemirror_mode": {
    "name": "ipython",
    "version": 3
   },
   "file_extension": ".py",
   "mimetype": "text/x-python",
   "name": "python",
   "nbconvert_exporter": "python",
   "pygments_lexer": "ipython3",
   "version": "3.8.3"
  }
 },
 "nbformat": 4,
 "nbformat_minor": 4
}
